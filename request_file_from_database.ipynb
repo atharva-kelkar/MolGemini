{
 "cells": [
  {
   "cell_type": "code",
   "execution_count": 1,
   "id": "efeef1ac",
   "metadata": {},
   "outputs": [],
   "source": [
    "from vertexai import generative_models\n",
    "from vertexai.generative_models import GenerativeModel\n",
    "import json"
   ]
  },
  {
   "cell_type": "code",
   "execution_count": 2,
   "id": "de3f4007",
   "metadata": {},
   "outputs": [],
   "source": [
    "model = GenerativeModel(model_name=\"gemini-1.0-pro-vision\")"
   ]
  },
  {
   "cell_type": "code",
   "execution_count": 3,
   "id": "38942028",
   "metadata": {},
   "outputs": [
    {
     "name": "stdout",
     "output_type": "stream",
     "text": [
      "Please provide the PDB ID for the protein of interest:\n"
     ]
    }
   ],
   "source": [
    "## Provide pdb ID\n",
    "ask_prompt='Please ask the user to provide a pdb ID for the protein of interest.'\n",
    "response = model.generate_content(ask_prompt)\n",
    "print(response.text)"
   ]
  },
  {
   "cell_type": "code",
   "execution_count": 4,
   "id": "c006e93f-8366-4901-9f89-4e845ea0d93c",
   "metadata": {},
   "outputs": [
    {
     "data": {
      "text/plain": [
       "'The pdb ID is 2L0J'"
      ]
     },
     "execution_count": 4,
     "metadata": {},
     "output_type": "execute_result"
    }
   ],
   "source": [
    "pdb_ID='2L0J'\n",
    "prompt_pdb='The pdb ID is '+pdb_ID\n",
    "prompt_pdb"
   ]
  },
  {
   "cell_type": "code",
   "execution_count": 5,
   "id": "2934ff9c",
   "metadata": {},
   "outputs": [],
   "source": [
    "#Feed pdb\n",
    "feed_pdb = model.generate_content(prompt_pdb)"
   ]
  },
  {
   "cell_type": "code",
   "execution_count": 6,
   "id": "ab7a7963-e19d-40a6-862c-fd764a56dded",
   "metadata": {},
   "outputs": [],
   "source": [
    "#Ask which PDB ID has been provided\n",
    "pdb_check = model.generate_content(f'Which pdb ID has been provided?{feed_pdb.text}')"
   ]
  },
  {
   "cell_type": "code",
   "execution_count": 7,
   "id": "5dc9ecb3-a297-467e-a461-dfdd569f055d",
   "metadata": {},
   "outputs": [
    {
     "name": "stdout",
     "output_type": "stream",
     "text": [
      "2L0J\n"
     ]
    }
   ],
   "source": [
    "print(pdb_check.text)"
   ]
  },
  {
   "cell_type": "code",
   "execution_count": 8,
   "id": "4e633ef2",
   "metadata": {},
   "outputs": [],
   "source": [
    "#What to do with the pdb file"
   ]
  },
  {
   "cell_type": "code",
   "execution_count": 9,
   "id": "1176f9e1-b63b-4fd7-97a7-9aefa97d7c08",
   "metadata": {},
   "outputs": [],
   "source": [
    "#helper function to download pdb\n",
    "import requests\n",
    "\n",
    "def download_pdb(pdb_id, save_path):\n",
    "    # Construct the URL for the PDB file\n",
    "    pdb_url = f\"https://files.rcsb.org/download/{pdb_id}.pdb\"\n",
    "\n",
    "    # Send a GET request to download the file\n",
    "    response = requests.get(pdb_url)\n",
    "\n",
    "    # Check if the request was successful (status code 200)\n",
    "    if response.status_code == 200:\n",
    "        # Save the content to a file\n",
    "        with open(save_path, 'wb') as f:\n",
    "            f.write(response.content)\n",
    "        print(f\"Successfully downloaded {pdb_id}.pdb\")\n",
    "    else:\n",
    "        print(f\"Failed to download {pdb_id}.pdb\")"
   ]
  },
  {
   "cell_type": "code",
   "execution_count": 10,
   "id": "d9fbdba5-a136-41dd-8143-e06452e1d16d",
   "metadata": {},
   "outputs": [
    {
     "name": "stdout",
     "output_type": "stream",
     "text": [
      "Successfully downloaded 2L0J.pdb\n"
     ]
    }
   ],
   "source": [
    "# Example usage:\n",
    "pdb_id = pdb_check.text  # Example PDB ID\n",
    "save_path = pdb_check.text+'.pdb'  # Path to save the downloaded PDB file\n",
    "download_pdb(pdb_id, save_path)\n"
   ]
  },
  {
   "cell_type": "code",
   "execution_count": 37,
   "id": "98f8ef26-fdc2-4a60-8aeb-72d1abd998ff",
   "metadata": {},
   "outputs": [
    {
     "name": "stdout",
     "output_type": "stream",
     "text": [
      "```python\n",
      "import Bio.PDB\n",
      "import numpy as np\n",
      "\n",
      "# Open the PDB file\n",
      "parser = Bio.PDB.PDBParser()\n",
      "structure = parser.get_structure('2L0J', '2L0J.pdb')\n",
      "\n",
      "# Get the CA atoms\n",
      "ca_atoms = []\n",
      "for model in structure.get_models():\n",
      "    for chain in model.get_chains():\n",
      "        for residue in chain.get_residues():\n",
      "            if residue.has_id('CA'):\n",
      "                ca_atoms.append(residue['CA'])\n",
      "\n",
      "# Print the coordinates of the CA atoms\n",
      "ca_coords = np.array([atom.get_coord() for atom in ca_atoms])\n",
      "print(ca_coords)\n",
      "```\n"
     ]
    }
   ],
   "source": [
    "#generate code to open pdb and read positions of the CA atons\n",
    "pdb_file=pdb_check.text+'.pdb'\n",
    "code_prompt='Please write code to open the pdb and print the coordinates of the CA atoms to an array.'\n",
    "open_pdb=model.generate_content([pdb_file,code_prompt])\n",
    "print(open_pdb.text)"
   ]
  },
  {
   "cell_type": "code",
   "execution_count": 38,
   "id": "9595c62c-7aff-4345-84ca-19228d75895a",
   "metadata": {},
   "outputs": [
    {
     "name": "stdout",
     "output_type": "stream",
     "text": [
      "[[  4.812  -8.317  19.129]\n",
      " [  6.511  -7.824  15.715]\n",
      " [  8.351  -4.579  15.207]\n",
      " ...\n",
      " [ 16.007  14.386 -22.258]\n",
      " [ 18.229  14.845 -19.134]\n",
      " [ 19.461  11.244 -18.624]]\n"
     ]
    }
   ],
   "source": [
    "import Bio.PDB\n",
    "import numpy as np\n",
    "\n",
    "# Open the PDB file\n",
    "parser = Bio.PDB.PDBParser()\n",
    "structure = parser.get_structure('2L0J', '2L0J.pdb')\n",
    "\n",
    "# Get the CA atoms\n",
    "ca_atoms = []\n",
    "for model in structure.get_models():\n",
    "    for chain in model.get_chains():\n",
    "        for residue in chain.get_residues():\n",
    "            if residue.has_id('CA'):\n",
    "                ca_atoms.append(residue['CA'])\n",
    "\n",
    "# Print the coordinates of the CA atoms\n",
    "ca_coords = np.array([atom.get_coord() for atom in ca_atoms])\n",
    "print(ca_coords)"
   ]
  },
  {
   "cell_type": "code",
   "execution_count": null,
   "id": "b4e68c94-a316-4b9a-a10d-c6f54ff64d20",
   "metadata": {},
   "outputs": [],
   "source": [
    "#"
   ]
  }
 ],
 "metadata": {
  "kernelspec": {
   "display_name": "Python 3 (ipykernel)",
   "language": "python",
   "name": "python3"
  },
  "language_info": {
   "codemirror_mode": {
    "name": "ipython",
    "version": 3
   },
   "file_extension": ".py",
   "mimetype": "text/x-python",
   "name": "python",
   "nbconvert_exporter": "python",
   "pygments_lexer": "ipython3",
   "version": "3.12.2"
  }
 },
 "nbformat": 4,
 "nbformat_minor": 5
}
