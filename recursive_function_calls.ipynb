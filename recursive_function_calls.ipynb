{
 "cells": [
  {
   "cell_type": "code",
   "execution_count": 1,
   "id": "efeef1ac",
   "metadata": {},
   "outputs": [],
   "source": [
    "from vertexai import generative_models\n",
    "from vertexai.generative_models import GenerativeModel\n",
    "import json"
   ]
  },
  {
   "cell_type": "code",
   "execution_count": 2,
   "id": "de3f4007",
   "metadata": {},
   "outputs": [],
   "source": [
    "model = GenerativeModel(model_name=\"gemini-1.0-pro-vision\")"
   ]
  },
  {
   "cell_type": "code",
   "execution_count": 3,
   "id": "595aa975-8181-4e76-adc7-a2c23eb4f34e",
   "metadata": {},
   "outputs": [],
   "source": [
    "property_functions = {\n",
    "    \"dihedral angle\": \"no\",\n",
    "    \"rmsf\": \"yes\",\n",
    "}"
   ]
  },
  {
   "cell_type": "code",
   "execution_count": 4,
   "id": "3d683da2-53bc-424f-ac59-cf9030806848",
   "metadata": {},
   "outputs": [],
   "source": [
    "def func_check_property(prop):\n",
    "    \"\"\"Function that checks if property is already present in list of properties\"\"\"\n",
    "    if prop.lower() in property_functions.keys():\n",
    "        if property_functions[prop.lower()] == \"yes\":\n",
    "            return True\n",
    "        else:\n",
    "            return False\n",
    "    else:\n",
    "        return False\n",
    "\n",
    "def write_function(prop):\n",
    "    # Ask Gemini to write new function to calculate property\n",
    "    new_func = model.generate_content(f'Please write me a Python function to calculate property {prop} such that I can pass it through pythons exec command')\n",
    "    # Run function\n",
    "    # exec(new_func.text)\n",
    "    # Update dictionary\n",
    "    property_functions[prop.lower()] = \"yes\"\n",
    "    # Return function\n",
    "    return new_func\n",
    "    "
   ]
  },
  {
   "cell_type": "code",
   "execution_count": 5,
   "id": "38942028",
   "metadata": {},
   "outputs": [],
   "source": [
    "## Take in question\n",
    "response = model.generate_content('Can you calculate the dihedral angle of a protein xyz for me?')"
   ]
  },
  {
   "cell_type": "code",
   "execution_count": 6,
   "id": "2934ff9c",
   "metadata": {},
   "outputs": [],
   "source": [
    "follow_up_response = model.generate_content(f'which property is being asked for? which protein is it asking me to do this for? Give answer in JSON {response.text}')\n",
    "# new_function = model.generate_content(f'write me a function to calculate this property: {follow_up_response.text}')"
   ]
  },
  {
   "cell_type": "code",
   "execution_count": 12,
   "id": "5dc9ecb3-a297-467e-a461-dfdd569f055d",
   "metadata": {},
   "outputs": [],
   "source": [
    "# exist_prompt = model.generate_content(f'does the property asked for exist in these set of keys? {property_functions.keys()}')\n",
    "# print(follow_up_response.text)"
   ]
  },
  {
   "cell_type": "code",
   "execution_count": 21,
   "id": "40ae1325-997f-4593-a596-149dfac846c6",
   "metadata": {},
   "outputs": [],
   "source": [
    "prompt = \"\"\"\n",
    "Answer the following questions using the prompt:\n",
    "What is the property asked for?\n",
    "What is the protein asked for?\n",
    "\n",
    "Provide the answer JSON.\n",
    "\"\"\"\n",
    "\n",
    "# follow_up_response\n",
    "# json.loads(follow_up_response.text)"
   ]
  },
  {
   "cell_type": "code",
   "execution_count": 30,
   "id": "128cb099-b442-43ed-ac5b-b263c6464320",
   "metadata": {},
   "outputs": [],
   "source": [
    "property_asked_for = follow_up_response.text\n",
    "if func_check_property(property_asked_for) is False:\n",
    "    new_func = write_function(property_asked_for)"
   ]
  },
  {
   "cell_type": "code",
   "execution_count": 36,
   "id": "76a8517a-64e7-4518-8aef-c012914900be",
   "metadata": {},
   "outputs": [],
   "source": [
    "exec(\"\"\"\n",
    "def calculate_dihedral_angle(p1, p2, p3, p4):\n",
    "    import numpy as np\n",
    "    \n",
    "    # Convert points to numpy arrays\n",
    "    p1, p2, p3, p4 = np.array(p1), np.array(p2), np.array(p3), np.array(p4)\n",
    "    \n",
    "    # Vectors between the points\n",
    "    b1 = p2 - p1\n",
    "    b2 = p3 - p2\n",
    "    b3 = p4 - p3\n",
    "    \n",
    "    # Normal vectors to the planes containing the three bonds\n",
    "    n1 = np.cross(b1, b2)\n",
    "    n2 = np.cross(b2, b3)\n",
    "    \n",
    "    # Normalize vectors\n",
    "    n1 /= np.linalg.norm(n1)\n",
    "    n2 /= np.linalg.norm(n2)\n",
    "    \n",
    "    # Calculate the dihedral angle between the two planes\n",
    "    m = np.cross(n1, n2)\n",
    "    angle = np.arctan2(np.dot(m, b2 / np.linalg.norm(m)), np.dot(n1, n2))\n",
    "    return np.degrees(angle)\n",
    "\n",
    "# Example usage:\n",
    "# dihedral_angle = calculate_dihedral_angle((x1, y1, z1), (x2, y2, z2), (x3, y3, z3), (x4, y4, z4))\n",
    "\"\"\")"
   ]
  },
  {
   "cell_type": "code",
   "execution_count": null,
   "id": "8139aa94-0011-4000-b3a5-5b71da0d8176",
   "metadata": {},
   "outputs": [],
   "source": []
  },
  {
   "cell_type": "code",
   "execution_count": 39,
   "id": "98b00a0e-e784-48d8-a542-11b9cecdb08c",
   "metadata": {},
   "outputs": [
    {
     "data": {
      "text/plain": [
       "'Dihedral angle'"
      ]
     },
     "execution_count": 39,
     "metadata": {},
     "output_type": "execute_result"
    }
   ],
   "source": [
    "follow_up_response.text"
   ]
  },
  {
   "cell_type": "code",
   "execution_count": 28,
   "id": "7ff9547c",
   "metadata": {},
   "outputs": [
    {
     "name": "stdout",
     "output_type": "stream",
     "text": [
      "```python\n",
      "def dihedral_angle(atom1, atom2, atom3, atom4):\n",
      "  \"\"\"\n",
      "  Calculates the dihedral angle between four atoms.\n",
      "\n",
      "  Args:\n",
      "    atom1: The first atom.\n",
      "    atom2: The second atom.\n",
      "    atom3: The third atom.\n",
      "    atom4: The fourth atom.\n",
      "\n",
      "  Returns:\n",
      "    The dihedral angle in degrees.\n",
      "  \"\"\"\n",
      "\n",
      "  # Calculate the vectors between the atoms.\n",
      "\n",
      "  v1 = atom2.position - atom1.position\n",
      "  v2 = atom3.position - atom2.position\n",
      "  v3 = atom4.position - atom3.position\n",
      "\n",
      "  # Calculate the cross products of the vectors.\n",
      "\n",
      "  c1 = np.cross(v1, v2)\n",
      "  c2 = np.cross(v2, v3)\n",
      "\n",
      "  # Calculate the dot product of the cross products.\n",
      "\n",
      "  dot = np.dot(c1, c2)\n",
      "\n",
      "  # Calculate the norm of the cross products.\n",
      "\n",
      "  norm1 = np.linalg.norm(c1)\n",
      "  norm2 = np.linalg.norm(c2)\n",
      "\n",
      "  # Calculate the dihedral angle.\n",
      "\n",
      "  angle = np.arctan2(dot, norm1 * norm2)\n",
      "\n",
      "  # Convert the angle to degrees.\n",
      "\n",
      "  angle = angle * 180 / np.pi\n",
      "\n",
      "  return angle\n",
      "```\n"
     ]
    }
   ],
   "source": [
    "print(new_function.text)"
   ]
  },
  {
   "cell_type": "code",
   "execution_count": 10,
   "id": "75ea1365",
   "metadata": {},
   "outputs": [
    {
     "data": {
      "text/plain": [
       "candidates {\n",
       "  content {\n",
       "    role: \"model\"\n",
       "    parts {\n",
       "      text: \"```\\nHEADER    2jof (model 2)\\nTITLE     Crystal structure of the 5-azacytidine-bound form of human DNA cytosine-5 methyltransferase\\nCOMPND    DNA (5\\'-D(*CP*GP*AP*GP*CP*GP*AP*CP*G)-3\\')\\nAUTHOR    C.G. Mueller-Dieckmann, R. Schulz, W. Saenger\\n\\nCRYST1   48.600  48.600  75.000  90.00  90.00  90.00 P 1\\nORIGIN    -24.300  -24.300  -37.500\\n\\nSCALE1    0.02060  0.00000  0.00000\\nSCALE2    0.00000  0.02060  0.00000\\nSCALE3    0.00000  0.00000  0.01333\\n\\nATOM      1  C1\\'  DC  1    -6.502   0.837  -7.292  1.00  0.00           C\\nATOM      2  C2\\'  DC  1    -5.130   0.695  -7.238  1.00  0.00           C\\nATOM      3  O2\\'  DC  1    -4.839   1.739  -6.973  1.00  0.00           O\\nATOM      4  C3\\'  DC  1    -3.785   1.697  -7.635  1.00  0.00           C\\nATOM      5  C4\\'  DC  1    -3.487   0.603  -8.261  1.00  0.00           C\\nATOM      6  C5\\'  DC  1    -4.535  -0.462  -8.295  1.00  0.00           C\\nATOM      7  O5\\'  DC  1    -5.649  -0.746  -7.933  1.00  0.00           O\\nATOM      8  P    DC  1    -4.349  -1.912  -8.229  1.00  0.00           P\\nATOM      9  OP1  DC  1    -3.792  -2.967  -7.695  1.00  0.00           O\\nATOM     10  OP2  DC  1    -5.345  -1.835  -8.907  1.00  0.00           O\\nATOM     11  O3\\'  DC  1    -2.565   0.595  -7.982  1.00  0.00           O\\nATOM     12  C1\\'  DG  2   -1.282   0.296  -7.128  1.00  0.00           C\\nATOM     13  C2\\'  DG  2   -0.953  -0.915  -7.739  1.00  0.00           C\\nATOM     14  O2\\'  DG  2    0.007  -0.908  -8.415  1.00  0.00           O\\nATOM     15  C3\\'  DG  2    1.184  -0.080  -8.268  1.00  0.00           C\\nATOM     16  C4\\'  DG  2    2.184   1.040  -8.268  1.00  0.00           C\\nATOM     17  C5\\'  DG  2    1.666   1.979  -7.238  1.00  0.00           C\\nATOM     18  O5\\'  DG  2    2.613   2.889  -7.292  1.00  0.00           O\\nATOM     19  P    DG  2    0.645   1.839  -7.292  1.00  0.00           P\\nATOM     20  OP1  DG  2    0.490   0.833  -6.756  1.00  0.00           O\\nATOM     21  OP2  DG  2   -0.535   2.604  -7.238  1.00  0.00           O\\nATOM     22  O3\\'  DG  2    2.617  -0.142  -8.415  1.00  0.00           O\\nATOM     23  N1   DG  2   -2.375  -1.966  -8.268  1.00  0.00           N\\nATOM     24  C2   DG  2   -2.383  -3.015  -7.739  1.00  0.00           C\\nATOM     25  N3   DG  2   -1.181  -3.263  -7.739  1.00  0.00           N\\nATOM     26  C4   DG  2    0.023  -2.485  -8.268  1.00  0.00           C\\nATOM     27  C5   DG  2    1.190  -1.534  -8.268  1.00  0.00           C\\nATOM     28  C6   DG  2    2.370  -1.885  -8.268  1.00  0.00           C\\nATOM     29  O6   DG  2    3.435  -1.060  -8.268  1.00  0.00           O\\nATOM     30  N7   DG  2    2.403  -3.036  -8.268  1.00  0.00           N\\nATOM     31  C8   DG  2    1.235  -3.856  -8.268  1.00  0.00           C\\nATOM     32  C1\\'  DA  3    3.939   2.896  -7.635  1.00  0.00           C\\nATOM     33  C2\\'  DA  3    4.707   3.808  -6.973  1.00  0.00           C\\nATOM     34  O2\\'  DA  3    5.658   3.781  -7.509  1.00  0.00           O\\nATOM     35  C3\\'  DA  3    6.407   2.897  -7.509  1.00  0.00           C\\nATOM     36  C4\\'  DA  3    6.091   1.808  -7.238  1.00  0.00           C\\nATOM     37  C5\\'  DA  3    4.921   1.032  -7.292  1.00  0.00           C\\nATOM     38  O5\\'  DA  3    4.010   0.219  -7.933  1.00  0.00           O\\nATOM     39  P    DA  3    5.219  -0.215  -7.292  1.00  0.00           P\\nATOM     40  OP1  DA  3    6.016  -1.020  -6.756  1.00  0.00           O\\nATOM     41  OP2  DA  3    4.215  -1.005  -7.907  1.00  0.00           O\\nATOM     42  O3\\'  DA  3    7.353   2.907  -7.982  1.00  0.00           O\\nATOM     43  N1   DA  3    4.709   4.951  -6.448  1.00  0.00           N\\nATOM     44  C2   DA  3    5.719   5.861  -6.448  1.00  0.00           C\\nATOM     45  N3   DA  3    5.727   6.915  -6.448  1.00  0.00           N\\nATOM     46  C4   DA  3    4.529   7.565  -6.448  1.00  0.00           C\\nATOM     47  C5   DA  3    3.329   7.015  -6.448  1.00  0.00           C\\nATOM     48  C6   DA  3    3.337   5.865  -6.448  1.00  0.00           C\\nATOM     49  N6   DA  3    2.137   5.215  -6.448  1.00  0.00           N\\nATOM     50  N7   DA  3    4.537   8.615  -6.448  1.00  0.00           N\\nATOM     51  C8   DA  3    5.737   8.165  -6.448  1.00  0.00           C\\nATOM     52  C1\\'  DC  4    8.801   1.040  -7.292  1.00  0.00           C\\nATOM     53  C2\\'  DC  4    9.038   0.082  -8.006  1.00  0.00           C\\nATOM     54  O2\\'  DC  4   10.248  -0.012  -8.415  1.00  0.00           O\\nATOM     55  C3\\'  DC  4   11.361   0.965  -8.268  1.00  0.00           C\\nATOM     56  C4\\'  DC  4   12.450   1.895  -8.268  1.00  0.00           C\\nATOM     57  C5\\'  DC  4   11.932   2.834  -7.238  1.00  0.00           C\"\n",
       "    }\n",
       "  }\n",
       "  finish_reason: STOP\n",
       "  safety_ratings {\n",
       "    category: HARM_CATEGORY_HATE_SPEECH\n",
       "    probability: NEGLIGIBLE\n",
       "    probability_score: 0.25146383\n",
       "    severity: HARM_SEVERITY_NEGLIGIBLE\n",
       "    severity_score: 0.059646938\n",
       "  }\n",
       "  safety_ratings {\n",
       "    category: HARM_CATEGORY_DANGEROUS_CONTENT\n",
       "    probability: NEGLIGIBLE\n",
       "    probability_score: 0.237045661\n",
       "    severity: HARM_SEVERITY_NEGLIGIBLE\n",
       "    severity_score: 0.0772387832\n",
       "  }\n",
       "  safety_ratings {\n",
       "    category: HARM_CATEGORY_HARASSMENT\n",
       "    probability: NEGLIGIBLE\n",
       "    probability_score: 0.495559782\n",
       "    severity: HARM_SEVERITY_NEGLIGIBLE\n",
       "    severity_score: 0.0290907566\n",
       "  }\n",
       "  safety_ratings {\n",
       "    category: HARM_CATEGORY_SEXUALLY_EXPLICIT\n",
       "    probability: NEGLIGIBLE\n",
       "    probability_score: 0.0806466118\n",
       "    severity: HARM_SEVERITY_NEGLIGIBLE\n",
       "    severity_score: 0.0179862101\n",
       "  }\n",
       "}\n",
       "usage_metadata {\n",
       "  prompt_token_count: 18\n",
       "  candidates_token_count: 2753\n",
       "  total_token_count: 2771\n",
       "}"
      ]
     },
     "execution_count": 10,
     "metadata": {},
     "output_type": "execute_result"
    }
   ],
   "source": [
    "response"
   ]
  },
  {
   "cell_type": "code",
   "execution_count": null,
   "id": "4e633ef2",
   "metadata": {},
   "outputs": [],
   "source": []
  },
  {
   "cell_type": "code",
   "execution_count": null,
   "id": "d62a2796-c1d0-437b-b7cb-edc5db149b13",
   "metadata": {},
   "outputs": [],
   "source": []
  },
  {
   "cell_type": "code",
   "execution_count": null,
   "id": "f1dca2d5-46a5-4f97-8b8f-aae50730df3c",
   "metadata": {},
   "outputs": [],
   "source": []
  },
  {
   "cell_type": "code",
   "execution_count": null,
   "id": "e79e45a4-1c6d-4464-a5f4-f8c45d3eb5c5",
   "metadata": {},
   "outputs": [],
   "source": []
  },
  {
   "cell_type": "code",
   "execution_count": null,
   "id": "512eb96a-0376-47f6-8d4b-e7a6e9d44a2a",
   "metadata": {},
   "outputs": [],
   "source": []
  },
  {
   "cell_type": "markdown",
   "id": "ccad94dc-897a-48a0-a6d3-1e791b33385b",
   "metadata": {},
   "source": [
    "## Testing"
   ]
  },
  {
   "cell_type": "code",
   "execution_count": 14,
   "id": "e05666b4-df55-4005-aed6-47f63dad4a75",
   "metadata": {},
   "outputs": [
    {
     "name": "stdout",
     "output_type": "stream",
     "text": [
      "PDB file 1crn.pdb downloaded successfully!\n"
     ]
    }
   ],
   "source": [
    "import urllib.request\n",
    "\n",
    "def download_pdb_file(pdb_id, save_path):\n",
    "    \"\"\"\n",
    "    Download a PDB file from the Protein Data Bank (PDB).\n",
    "\n",
    "    Args:\n",
    "    - pdb_id (str): The PDB ID of the structure to download.\n",
    "    - save_path (str): The path where the downloaded file will be saved.\n",
    "    \"\"\"\n",
    "    # Construct the URL to download the PDB file\n",
    "    url = f\"https://files.rcsb.org/download/{pdb_id}.pdb\"\n",
    "\n",
    "    # Download the file and save it to the specified path\n",
    "    urllib.request.urlretrieve(url, save_path)\n",
    "    print(f\"PDB file {pdb_id}.pdb downloaded successfully!\")\n",
    "\n",
    "# Example usage:\n",
    "download_pdb_file(\"1crn\", \"1crn.pdb\")"
   ]
  },
  {
   "cell_type": "code",
   "execution_count": 19,
   "id": "1c376738-2538-42ae-afe2-ba1baae2f62c",
   "metadata": {},
   "outputs": [],
   "source": [
    "response = model.generate_content('can you tell me the PDB name of the covid ace receptor?')"
   ]
  },
  {
   "cell_type": "code",
   "execution_count": 20,
   "id": "3b5ef762-05c3-4b91-b378-f649a9d464f1",
   "metadata": {},
   "outputs": [
    {
     "data": {
      "text/plain": [
       "'6LU7'"
      ]
     },
     "execution_count": 20,
     "metadata": {},
     "output_type": "execute_result"
    }
   ],
   "source": [
    "response.text"
   ]
  },
  {
   "cell_type": "code",
   "execution_count": null,
   "id": "70068e66-ef77-4100-afee-9878a79cbff3",
   "metadata": {},
   "outputs": [],
   "source": []
  }
 ],
 "metadata": {
  "kernelspec": {
   "display_name": "Python 3 (ipykernel)",
   "language": "python",
   "name": "python3"
  },
  "language_info": {
   "codemirror_mode": {
    "name": "ipython",
    "version": 3
   },
   "file_extension": ".py",
   "mimetype": "text/x-python",
   "name": "python",
   "nbconvert_exporter": "python",
   "pygments_lexer": "ipython3",
   "version": "3.12.2"
  }
 },
 "nbformat": 4,
 "nbformat_minor": 5
}
