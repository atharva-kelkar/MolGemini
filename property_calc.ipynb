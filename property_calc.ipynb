{
 "cells": [
  {
   "cell_type": "code",
   "execution_count": 5,
   "id": "2ce61725-0b67-411b-911e-aac5c6e82c4f",
   "metadata": {},
   "outputs": [],
   "source": [
    "!export GOOGLE_APPLICATION_CREDENTIALS=\"/home/atharvakelkar/BoxSync/Personal_Docs/GeminiAI_Hackathon/long-facet-418710-2198e9aedddc.json\""
   ]
  },
  {
   "cell_type": "code",
   "execution_count": 1,
   "id": "38b35c31-0a66-4d73-b56d-fe39fad35e6e",
   "metadata": {},
   "outputs": [],
   "source": [
    "from vertexai import generative_models\n",
    "from vertexai.generative_models import GenerativeModel\n",
    "import json"
   ]
  },
  {
   "cell_type": "code",
   "execution_count": 17,
   "id": "be74e5c1-bbdd-42dc-96ed-5c726648db06",
   "metadata": {},
   "outputs": [],
   "source": [
    "response = model.generate_content('calculate end-to-end distance for 2L0J')"
   ]
  },
  {
   "cell_type": "code",
   "execution_count": 15,
   "id": "ca0bb4c2-0d9c-4b03-b0c5-bba2eb376fb1",
   "metadata": {},
   "outputs": [],
   "source": [
    "response = model.generate_content(f'Can you extract the PDB ID from this input: {response.text}')"
   ]
  },
  {
   "cell_type": "code",
   "execution_count": 18,
   "id": "388fbeaf-ad40-433b-8289-df661e4bb3d5",
   "metadata": {},
   "outputs": [],
   "source": [
    "response = model.generate_content(f'Can you extract the property to be calculated from this input: {response.text}')"
   ]
  },
  {
   "cell_type": "code",
   "execution_count": 19,
   "id": "bd29d3ce-820e-472d-9aa6-5e2ed63466a6",
   "metadata": {},
   "outputs": [
    {
     "data": {
      "text/plain": [
       "'End-to-end distance'"
      ]
     },
     "execution_count": 19,
     "metadata": {},
     "output_type": "execute_result"
    }
   ],
   "source": [
    "response.text"
   ]
  },
  {
   "cell_type": "code",
   "execution_count": 3,
   "id": "4b41bd05-f2c7-480c-b56a-40d236697e95",
   "metadata": {},
   "outputs": [],
   "source": [
    "## Get model\n",
    "model = GenerativeModel(model_name=\"gemini-1.0-pro-vision\")"
   ]
  },
  {
   "cell_type": "code",
   "execution_count": 7,
   "id": "c82669ce-2d4b-4bc7-a01b-3f9f8f83dbdc",
   "metadata": {},
   "outputs": [],
   "source": [
    "## Ask to calculate property\n",
    "response = model.generate_content('write a code to calculate the radius of gyration from a pdb file using MDAnalysis')"
   ]
  },
  {
   "cell_type": "code",
   "execution_count": 6,
   "id": "8d7218cb-9777-4eb5-a319-ee9d94f0378d",
   "metadata": {},
   "outputs": [
    {
     "data": {
      "text/plain": [
       "'```python\\nimport numpy as np\\nimport MDAnalysis as mda\\n\\ndef calculate_radius_of_gyration(pdb_file):\\n  \"\"\"Calculates the radius of gyration of a molecule from a PDB file.\\n\\n  Args:\\n    pdb_file: The path to the PDB file.\\n\\n  Returns:\\n    The radius of gyration in Angstroms.\\n  \"\"\"\\n\\n  # Load the PDB file into MDAnalysis\\n  universe = mda.Universe(pdb_file)\\n\\n  # Calculate the center of mass of the molecule\\n  center_of_mass = universe.atoms.center_of_mass()\\n\\n  # Calculate the radius of gyration of the molecule\\n  radius_of_gyration = np.sqrt(np.mean(np.sum((universe.atoms.positions - center_of_mass)**2, axis=1)))\\n\\n  return radius_of_gyration\\n\\n\\n# Example usage\\npdb_file = \\'path/to/pdb_file.pdb\\'\\nradius_of_gyration = calculate_radius_of_gyration(pdb_file)\\nprint(radius_of_gyration)\\n```'"
      ]
     },
     "execution_count": 6,
     "metadata": {},
     "output_type": "execute_result"
    }
   ],
   "source": [
    "response.text"
   ]
  },
  {
   "cell_type": "code",
   "execution_count": 8,
   "id": "1e34b737-20b5-466d-a035-b88c72705c24",
   "metadata": {},
   "outputs": [],
   "source": [
    "#function to remove markdown from generated code\n",
    "def remove_markdown_code_blocks(text):\n",
    "    lines = text.split('\\n')\n",
    "    cleaned_lines = [line for line in lines if not line.strip().startswith('```')]\n",
    "    cleaned_text = '\\n'.join(cleaned_lines)\n",
    "    return cleaned_text"
   ]
  },
  {
   "cell_type": "code",
   "execution_count": 9,
   "id": "96302d71-f311-4fb4-b72d-3614a36bf907",
   "metadata": {},
   "outputs": [],
   "source": [
    "func = remove_markdown_code_blocks(response.text)"
   ]
  },
  {
   "cell_type": "code",
   "execution_count": 11,
   "id": "39681ff3-1883-4639-8405-24e0b9d2157c",
   "metadata": {},
   "outputs": [
    {
     "ename": "ModuleNotFoundError",
     "evalue": "No module named 'MDAnalysis'",
     "output_type": "error",
     "traceback": [
      "\u001b[0;31m---------------------------------------------------------------------------\u001b[0m",
      "\u001b[0;31mModuleNotFoundError\u001b[0m                       Traceback (most recent call last)",
      "Cell \u001b[0;32mIn[11], line 1\u001b[0m\n\u001b[0;32m----> 1\u001b[0m \u001b[43mexec\u001b[49m\u001b[43m(\u001b[49m\u001b[43mfunc\u001b[49m\u001b[43m)\u001b[49m\n",
      "File \u001b[0;32m<string>:1\u001b[0m\n",
      "\u001b[0;31mModuleNotFoundError\u001b[0m: No module named 'MDAnalysis'"
     ]
    }
   ],
   "source": [
    "exec(func)"
   ]
  },
  {
   "cell_type": "code",
   "execution_count": null,
   "id": "aaf33fc2-fa85-4e5e-8b57-bfe123b3c262",
   "metadata": {},
   "outputs": [],
   "source": []
  }
 ],
 "metadata": {
  "kernelspec": {
   "display_name": "Python 3 (ipykernel)",
   "language": "python",
   "name": "python3"
  },
  "language_info": {
   "codemirror_mode": {
    "name": "ipython",
    "version": 3
   },
   "file_extension": ".py",
   "mimetype": "text/x-python",
   "name": "python",
   "nbconvert_exporter": "python",
   "pygments_lexer": "ipython3",
   "version": "3.12.2"
  }
 },
 "nbformat": 4,
 "nbformat_minor": 5
}
