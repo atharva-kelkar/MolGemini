{
 "cells": [
  {
   "cell_type": "code",
   "execution_count": 1,
   "id": "efeef1ac",
   "metadata": {},
   "outputs": [],
   "source": [
    "from vertexai import generative_models\n",
    "from vertexai.generative_models import GenerativeModel\n",
    "import json"
   ]
  },
  {
   "cell_type": "code",
   "execution_count": 17,
   "id": "de3f4007",
   "metadata": {},
   "outputs": [],
   "source": [
    "model = GenerativeModel(model_name=\"gemini-1.0-pro-vision\")"
   ]
  },
  {
   "cell_type": "code",
   "execution_count": 18,
   "id": "38942028",
   "metadata": {},
   "outputs": [
    {
     "name": "stdout",
     "output_type": "stream",
     "text": [
      "Please provide the PDB ID for the protein of interest. \n",
      "\n",
      "The PDB ID is a unique identifier for protein structures deposited in the Protein Data Bank, and it typically consists of four characters.\n"
     ]
    }
   ],
   "source": [
    "## Provide pdb ID\n",
    "ask_prompt='Please ask the user to provide a pdb ID for the protein of interest.'\n",
    "response = model.generate_content(ask_prompt)\n",
    "print(response.text)"
   ]
  },
  {
   "cell_type": "code",
   "execution_count": 4,
   "id": "c006e93f-8366-4901-9f89-4e845ea0d93c",
   "metadata": {},
   "outputs": [
    {
     "data": {
      "text/plain": [
       "'The pdb ID is 2L0J'"
      ]
     },
     "execution_count": 4,
     "metadata": {},
     "output_type": "execute_result"
    }
   ],
   "source": [
    "pdb_ID='2L0J'\n",
    "prompt_pdb='The pdb ID is '+pdb_ID\n",
    "prompt_pdb"
   ]
  },
  {
   "cell_type": "code",
   "execution_count": 5,
   "id": "2934ff9c",
   "metadata": {},
   "outputs": [],
   "source": [
    "#Feed pdb\n",
    "feed_pdb = model.generate_content(prompt_pdb)"
   ]
  },
  {
   "cell_type": "code",
   "execution_count": 6,
   "id": "ab7a7963-e19d-40a6-862c-fd764a56dded",
   "metadata": {},
   "outputs": [],
   "source": [
    "#Ask which PDB ID has been provided\n",
    "pdb_check = model.generate_content(f'Which pdb ID has been provided?{feed_pdb.text}')"
   ]
  },
  {
   "cell_type": "code",
   "execution_count": 7,
   "id": "5dc9ecb3-a297-467e-a461-dfdd569f055d",
   "metadata": {},
   "outputs": [
    {
     "name": "stdout",
     "output_type": "stream",
     "text": [
      "2L0J\n"
     ]
    }
   ],
   "source": [
    "print(pdb_check.text)"
   ]
  },
  {
   "cell_type": "code",
   "execution_count": 8,
   "id": "4e633ef2",
   "metadata": {},
   "outputs": [],
   "source": [
    "#What to do with the pdb file"
   ]
  },
  {
   "cell_type": "code",
   "execution_count": 9,
   "id": "1176f9e1-b63b-4fd7-97a7-9aefa97d7c08",
   "metadata": {},
   "outputs": [],
   "source": [
    "#helper function to download pdb\n",
    "import requests\n",
    "\n",
    "def download_pdb(pdb_id, save_path):\n",
    "    # Construct the URL for the PDB file\n",
    "    pdb_url = f\"https://files.rcsb.org/download/{pdb_id}.pdb\"\n",
    "\n",
    "    # Send a GET request to download the file\n",
    "    response = requests.get(pdb_url)\n",
    "\n",
    "    # Check if the request was successful (status code 200)\n",
    "    if response.status_code == 200:\n",
    "        # Save the content to a file\n",
    "        with open(save_path, 'wb') as f:\n",
    "            f.write(response.content)\n",
    "        print(f\"Successfully downloaded {pdb_id}.pdb\")\n",
    "    else:\n",
    "        print(f\"Failed to download {pdb_id}.pdb\")"
   ]
  },
  {
   "cell_type": "code",
   "execution_count": 10,
   "id": "d9fbdba5-a136-41dd-8143-e06452e1d16d",
   "metadata": {},
   "outputs": [
    {
     "name": "stdout",
     "output_type": "stream",
     "text": [
      "Successfully downloaded 2L0J.pdb\n"
     ]
    }
   ],
   "source": [
    "# Example usage:\n",
    "pdb_id = pdb_check.text  # Example PDB ID\n",
    "save_path = pdb_check.text+'.pdb'  # Path to save the downloaded PDB file\n",
    "download_pdb(pdb_id, save_path)\n"
   ]
  },
  {
   "cell_type": "code",
   "execution_count": 11,
   "id": "98f8ef26-fdc2-4a60-8aeb-72d1abd998ff",
   "metadata": {},
   "outputs": [
    {
     "name": "stdout",
     "output_type": "stream",
     "text": [
      "```python\n",
      "import Bio.PDB\n",
      "import numpy as np\n",
      "\n",
      "# Open the PDB file\n",
      "parser = Bio.PDB.PDBParser()\n",
      "structure = parser.get_structure('2L0J', '2L0J.pdb')\n",
      "\n",
      "# Get the coordinates of the CA atoms\n",
      "ca_coords = []\n",
      "for model in structure:\n",
      "    for chain in model:\n",
      "        for residue in chain:\n",
      "            if residue.has_id('CA'):\n",
      "                ca_coords.append(residue['CA'].get_coord())\n",
      "\n",
      "# Print the coordinates to an array\n",
      "print(np.array(ca_coords))\n",
      "```\n"
     ]
    }
   ],
   "source": [
    "#generate code to open pdb and read positions of the CA atons\n",
    "pdb_file=pdb_check.text+'.pdb'\n",
    "code_prompt='Please write code to open the pdb and print the coordinates of the CA atoms to an array.'\n",
    "open_pdb=model.generate_content([pdb_file,code_prompt])\n",
    "print(open_pdb.text)"
   ]
  },
  {
   "cell_type": "code",
   "execution_count": 12,
   "id": "1e93b756-8404-4db1-b16c-962173abfa1d",
   "metadata": {},
   "outputs": [],
   "source": [
    "#function to remove markdown from generated code\n",
    "def remove_markdown_code_blocks(text):\n",
    "    lines = text.split('\\n')\n",
    "    cleaned_lines = [line for line in lines if not line.strip().startswith('```')]\n",
    "    cleaned_text = '\\n'.join(cleaned_lines)\n",
    "    return cleaned_text"
   ]
  },
  {
   "cell_type": "code",
   "execution_count": 13,
   "id": "43c9a6dc-ffff-4489-b36f-bd458a31e705",
   "metadata": {},
   "outputs": [],
   "source": [
    "cleaned_text = remove_markdown_code_blocks(open_pdb.text)"
   ]
  },
  {
   "cell_type": "code",
   "execution_count": 14,
   "id": "9bfac364-74a9-49ff-a1e7-e7e784b02110",
   "metadata": {},
   "outputs": [
    {
     "name": "stdout",
     "output_type": "stream",
     "text": [
      "[[  4.812  -8.317  19.129]\n",
      " [  6.511  -7.824  15.715]\n",
      " [  8.351  -4.579  15.207]\n",
      " ...\n",
      " [ 16.007  14.386 -22.258]\n",
      " [ 18.229  14.845 -19.134]\n",
      " [ 19.461  11.244 -18.624]]\n"
     ]
    }
   ],
   "source": [
    "import numpy as np\n",
    "exec(cleaned_text)"
   ]
  },
  {
   "cell_type": "markdown",
   "id": "310ef3c7-041a-4cc2-b64d-09477125fb01",
   "metadata": {},
   "source": [
    "Compute Radius of gyration"
   ]
  },
  {
   "cell_type": "code",
   "execution_count": 19,
   "id": "932f9b52-a15b-47a9-a7e4-fdd868920f99",
   "metadata": {},
   "outputs": [
    {
     "name": "stdout",
     "output_type": "stream",
     "text": [
      "Please specify the property you would like to compute:\n"
     ]
    }
   ],
   "source": [
    "request_prompt='Please ask the user which property they want to compute and do not provide any options.'\n",
    "analysis_request = model.generate_content(request_prompt)\n",
    "print(analysis_request.text)"
   ]
  },
  {
   "cell_type": "code",
   "execution_count": 20,
   "id": "6da4384f-bef3-421e-8077-3b50ef638acb",
   "metadata": {},
   "outputs": [
    {
     "data": {
      "text/plain": [
       "'The property to analyze is Radius of gyration'"
      ]
     },
     "execution_count": 20,
     "metadata": {},
     "output_type": "execute_result"
    }
   ],
   "source": [
    "name_property='Radius of gyration'\n",
    "property_feed='The property to analyze is '+name_property\n",
    "property_feed"
   ]
  },
  {
   "cell_type": "code",
   "execution_count": 21,
   "id": "b5d2aa66-139f-4af6-a9fa-3d9a438a817e",
   "metadata": {},
   "outputs": [],
   "source": [
    "feed_property = model.generate_content(property_feed)"
   ]
  },
  {
   "cell_type": "code",
   "execution_count": 22,
   "id": "9f0bf95c-d793-48c7-8bf8-8913d8bcfa4b",
   "metadata": {},
   "outputs": [
    {
     "name": "stdout",
     "output_type": "stream",
     "text": [
      "Which part of the system do you want the property computed for?\n"
     ]
    }
   ],
   "source": [
    "#specifiy analysis\n",
    "specify_prompt='Please ask the user for which part of the system they want the property computed for. Do not provide any options'\n",
    "specify_request = model.generate_content(specify_prompt)\n",
    "print(specify_request.text)"
   ]
  },
  {
   "cell_type": "code",
   "execution_count": 38,
   "id": "851024d5-6969-4228-b0ac-6adc7087f318",
   "metadata": {},
   "outputs": [
    {
     "data": {
      "text/plain": [
       "'The relevant part is the entire chain'"
      ]
     },
     "execution_count": 38,
     "metadata": {},
     "output_type": "execute_result"
    }
   ],
   "source": [
    "name_part='Chain A'\n",
    "specify_feed='The relevant part is the entire chain'# + name_part\n",
    "specify_feed"
   ]
  },
  {
   "cell_type": "code",
   "execution_count": 39,
   "id": "96bd1fd3-047c-4173-98d0-4875895f8a8f",
   "metadata": {},
   "outputs": [],
   "source": [
    "feed_specify=model.generate_content(specify_feed)"
   ]
  },
  {
   "cell_type": "code",
   "execution_count": 40,
   "id": "4e787a7e-2d64-42a9-ac1c-a4245286f5cf",
   "metadata": {},
   "outputs": [],
   "source": [
    "#check if pdb, property and specification are correctly stored "
   ]
  },
  {
   "cell_type": "code",
   "execution_count": 41,
   "id": "0f330d66-636a-4bd2-a989-2b2e951778a1",
   "metadata": {},
   "outputs": [
    {
     "name": "stdout",
     "output_type": "stream",
     "text": [
      "**pdb:** 2L0J\n",
      "\n",
      "**Property:** Radius of gyration\n",
      "\n",
      "**System:** Human Interleukin-17A (IL-17A) in complex with its inhibitor, secukinumab\n"
     ]
    }
   ],
   "source": [
    "#Ask which PDB ID has been provided\n",
    "analysis_check_prompt='Which pdb has been provided? Which property should be computed? For which part of the system?'\n",
    "analysis_check = model.generate_content([analysis_check_prompt,feed_pdb.text,feed_property.text,feed_specify.text])\n",
    "print(analysis_check.text)"
   ]
  },
  {
   "cell_type": "code",
   "execution_count": 42,
   "id": "b4e68c94-a316-4b9a-a10d-c6f54ff64d20",
   "metadata": {},
   "outputs": [
    {
     "name": "stdout",
     "output_type": "stream",
     "text": [
      "```\n",
      "import numpy as np\n",
      "import MDAnalysis as mda\n",
      "\n",
      "# Load the PDB file\n",
      "u = mda.Universe('2L0J.pdb')\n",
      "\n",
      "# Select the protein atoms\n",
      "protein = u.select_atoms('protein')\n",
      "\n",
      "# Compute the radius of gyration\n",
      "Rg = protein.radius_of_gyration()\n",
      "\n",
      "# Print the radius of gyration\n",
      "print(Rg)\n",
      "```\n"
     ]
    }
   ],
   "source": [
    "analysis_prompt='Please write code to perform the computation for the given PDB, Property and system part.'\n",
    "pdb_analysis=model.generate_content([analysis_prompt,analysis_check.text])\n",
    "print(pdb_analysis.text)"
   ]
  },
  {
   "cell_type": "code",
   "execution_count": 43,
   "id": "9c39be36-ddbf-4a84-9542-33dbc679dbc4",
   "metadata": {},
   "outputs": [
    {
     "name": "stdout",
     "output_type": "stream",
     "text": [
      "17.887809073016886\n"
     ]
    }
   ],
   "source": [
    "analysis_code = remove_markdown_code_blocks(pdb_analysis.text)\n",
    "exec(analysis_code)"
   ]
  },
  {
   "cell_type": "code",
   "execution_count": 45,
   "id": "27691b3e-0b88-46bb-8747-f340c89de5cc",
   "metadata": {},
   "outputs": [
    {
     "name": "stdout",
     "output_type": "stream",
     "text": [
      "```\n",
      "import MDAnalysis as mda\n",
      "import numpy as np\n",
      "\n",
      "def compute_radius_of_gyration(pdb, property):\n",
      "  \"\"\"\n",
      "  Compute the radius of gyration for a given PDB file and property.\n",
      "\n",
      "  Args:\n",
      "    pdb (str): Path to the PDB file.\n",
      "    property (str): The property to compute the radius of gyration for.\n",
      "\n",
      "  Returns:\n",
      "    float: The radius of gyration.\n",
      "  \"\"\"\n",
      "\n",
      "  # Load the PDB file\n",
      "  universe = mda.Universe(pdb)\n",
      "\n",
      "  # Select the atoms to compute the radius of gyration for\n",
      "  if property == \"backbone\":\n",
      "    selection = \"backbone\"\n",
      "  elif property == \"heavy\":\n",
      "    selection = \"heavy\"\n",
      "  elif property == \"all\":\n",
      "    selection = \"all\"\n",
      "  else:\n",
      "    raise ValueError(\"Invalid property: {}\".format(property))\n",
      "\n",
      "  # Compute the radius of gyration\n",
      "  radius_of_gyration = universe.select_atoms(selection).radius_of_gyration()\n",
      "\n",
      "  # Return the radius of gyration\n",
      "  return radius_of_gyration\n",
      "\n",
      "# Compute the radius of gyration for the given PDB file and property\n",
      "radius_of_gyration = compute_radius_of_gyration(\"2L0J.pdb\", \"heavy\")\n",
      "\n",
      "# Print the radius of gyration\n",
      "print(radius_of_gyration)\n",
      "```\n"
     ]
    }
   ],
   "source": [
    "analysis_prompt='Please write a function using MDAnalysis to perform the computation for the given PDB and Property. Write only the function'\n",
    "pdb_analysis=model.generate_content([analysis_prompt,analysis_check.text])\n",
    "print(pdb_analysis.text)"
   ]
  },
  {
   "cell_type": "code",
   "execution_count": 46,
   "id": "2d2721f8-b729-4ea3-b263-23c7da029db2",
   "metadata": {},
   "outputs": [
    {
     "data": {
      "text/plain": [
       "'import MDAnalysis as mda\\nimport numpy as np\\n\\ndef compute_radius_of_gyration(pdb, property):\\n  \"\"\"\\n  Compute the radius of gyration for a given PDB file and property.\\n\\n  Args:\\n    pdb (str): Path to the PDB file.\\n    property (str): The property to compute the radius of gyration for.\\n\\n  Returns:\\n    float: The radius of gyration.\\n  \"\"\"\\n\\n  # Load the PDB file\\n  universe = mda.Universe(pdb)\\n\\n  # Select the atoms to compute the radius of gyration for\\n  if property == \"backbone\":\\n    selection = \"backbone\"\\n  elif property == \"heavy\":\\n    selection = \"heavy\"\\n  elif property == \"all\":\\n    selection = \"all\"\\n  else:\\n    raise ValueError(\"Invalid property: {}\".format(property))\\n\\n  # Compute the radius of gyration\\n  radius_of_gyration = universe.select_atoms(selection).radius_of_gyration()\\n\\n  # Return the radius of gyration\\n  return radius_of_gyration\\n\\n# Compute the radius of gyration for the given PDB file and property\\nradius_of_gyration = compute_radius_of_gyration(\"2L0J.pdb\", \"heavy\")\\n\\n# Print the radius of gyration\\nprint(radius_of_gyration)'"
      ]
     },
     "execution_count": 46,
     "metadata": {},
     "output_type": "execute_result"
    }
   ],
   "source": [
    "remove_markdown_code_blocks(pdb_analysis.text)"
   ]
  },
  {
   "cell_type": "code",
   "execution_count": 47,
   "id": "3c6bcf9d-b02c-4fec-a14f-d02ccb4c3a4c",
   "metadata": {},
   "outputs": [
    {
     "ename": "SelectionError",
     "evalue": "Unknown selection token: 'heavy'",
     "output_type": "error",
     "traceback": [
      "\u001b[0;31m---------------------------------------------------------------------------\u001b[0m",
      "\u001b[0;31mSelectionError\u001b[0m                            Traceback (most recent call last)",
      "Cell \u001b[0;32mIn[47], line 1\u001b[0m\n\u001b[0;32m----> 1\u001b[0m \u001b[43mexec\u001b[49m\u001b[43m(\u001b[49m\u001b[43mremove_markdown_code_blocks\u001b[49m\u001b[43m(\u001b[49m\u001b[43mpdb_analysis\u001b[49m\u001b[38;5;241;43m.\u001b[39;49m\u001b[43mtext\u001b[49m\u001b[43m)\u001b[49m\u001b[43m)\u001b[49m\n",
      "File \u001b[0;32m<string>:36\u001b[0m\n",
      "File \u001b[0;32m<string>:30\u001b[0m, in \u001b[0;36mcompute_radius_of_gyration\u001b[0;34m(pdb, property)\u001b[0m\n",
      "File \u001b[0;32m~/anaconda3/envs/gemini/lib/python3.12/site-packages/MDAnalysis/core/universe.py:674\u001b[0m, in \u001b[0;36mUniverse.select_atoms\u001b[0;34m(self, *args, **kwargs)\u001b[0m\n\u001b[1;32m    667\u001b[0m \u001b[38;5;28;01mdef\u001b[39;00m \u001b[38;5;21mselect_atoms\u001b[39m(\u001b[38;5;28mself\u001b[39m, \u001b[38;5;241m*\u001b[39margs, \u001b[38;5;241m*\u001b[39m\u001b[38;5;241m*\u001b[39mkwargs):\n\u001b[1;32m    668\u001b[0m \u001b[38;5;250m    \u001b[39m\u001b[38;5;124;03m\"\"\"Select atoms.\u001b[39;00m\n\u001b[1;32m    669\u001b[0m \n\u001b[1;32m    670\u001b[0m \u001b[38;5;124;03m    See Also\u001b[39;00m\n\u001b[1;32m    671\u001b[0m \u001b[38;5;124;03m    --------\u001b[39;00m\n\u001b[1;32m    672\u001b[0m \u001b[38;5;124;03m    :meth:`MDAnalysis.core.groups.AtomGroup.select_atoms`\u001b[39;00m\n\u001b[1;32m    673\u001b[0m \u001b[38;5;124;03m    \"\"\"\u001b[39;00m\n\u001b[0;32m--> 674\u001b[0m     \u001b[38;5;28;01mreturn\u001b[39;00m \u001b[38;5;28;43mself\u001b[39;49m\u001b[38;5;241;43m.\u001b[39;49m\u001b[43matoms\u001b[49m\u001b[38;5;241;43m.\u001b[39;49m\u001b[43mselect_atoms\u001b[49m\u001b[43m(\u001b[49m\u001b[38;5;241;43m*\u001b[39;49m\u001b[43margs\u001b[49m\u001b[43m,\u001b[49m\u001b[43m \u001b[49m\u001b[38;5;241;43m*\u001b[39;49m\u001b[38;5;241;43m*\u001b[39;49m\u001b[43mkwargs\u001b[49m\u001b[43m)\u001b[49m\n",
      "File \u001b[0;32m~/anaconda3/envs/gemini/lib/python3.12/site-packages/MDAnalysis/core/groups.py:3230\u001b[0m, in \u001b[0;36mAtomGroup.select_atoms\u001b[0;34m(self, sel, periodic, rtol, atol, updating, sorted, rdkit_kwargs, smarts_kwargs, *othersel, **selgroups)\u001b[0m\n\u001b[1;32m   3225\u001b[0m     \u001b[38;5;28;01mif\u001b[39;00m \u001b[38;5;129;01mnot\u001b[39;00m \u001b[38;5;28misinstance\u001b[39m(thing, AtomGroup):\n\u001b[1;32m   3226\u001b[0m         \u001b[38;5;28;01mraise\u001b[39;00m \u001b[38;5;167;01mTypeError\u001b[39;00m(\u001b[38;5;124m\"\u001b[39m\u001b[38;5;124mPassed groups must be AtomGroups. \u001b[39m\u001b[38;5;124m\"\u001b[39m\n\u001b[1;32m   3227\u001b[0m                         \u001b[38;5;124m\"\u001b[39m\u001b[38;5;124mYou provided \u001b[39m\u001b[38;5;132;01m{}\u001b[39;00m\u001b[38;5;124m for group \u001b[39m\u001b[38;5;124m'\u001b[39m\u001b[38;5;132;01m{}\u001b[39;00m\u001b[38;5;124m'\u001b[39m\u001b[38;5;124m\"\u001b[39m\u001b[38;5;241m.\u001b[39mformat(\n\u001b[1;32m   3228\u001b[0m                             thing\u001b[38;5;241m.\u001b[39m\u001b[38;5;18m__class__\u001b[39m\u001b[38;5;241m.\u001b[39m\u001b[38;5;18m__name__\u001b[39m, group))\n\u001b[0;32m-> 3230\u001b[0m selections \u001b[38;5;241m=\u001b[39m \u001b[38;5;28;43mtuple\u001b[39;49m\u001b[43m(\u001b[49m\u001b[43m(\u001b[49m\u001b[43mselection\u001b[49m\u001b[38;5;241;43m.\u001b[39;49m\u001b[43mParser\u001b[49m\u001b[38;5;241;43m.\u001b[39;49m\u001b[43mparse\u001b[49m\u001b[43m(\u001b[49m\u001b[43ms\u001b[49m\u001b[43m,\u001b[49m\u001b[43m \u001b[49m\u001b[43mselgroups\u001b[49m\u001b[43m,\u001b[49m\n\u001b[1;32m   3231\u001b[0m \u001b[43m                                           \u001b[49m\u001b[43mperiodic\u001b[49m\u001b[38;5;241;43m=\u001b[39;49m\u001b[43mperiodic\u001b[49m\u001b[43m,\u001b[49m\n\u001b[1;32m   3232\u001b[0m \u001b[43m                                           \u001b[49m\u001b[43matol\u001b[49m\u001b[38;5;241;43m=\u001b[39;49m\u001b[43matol\u001b[49m\u001b[43m,\u001b[49m\u001b[43m \u001b[49m\u001b[43mrtol\u001b[49m\u001b[38;5;241;43m=\u001b[39;49m\u001b[43mrtol\u001b[49m\u001b[43m,\u001b[49m\n\u001b[1;32m   3233\u001b[0m \u001b[43m                                           \u001b[49m\u001b[38;5;28;43msorted\u001b[39;49m\u001b[38;5;241;43m=\u001b[39;49m\u001b[38;5;28;43msorted\u001b[39;49m\u001b[43m,\u001b[49m\n\u001b[1;32m   3234\u001b[0m \u001b[43m                                           \u001b[49m\u001b[43mrdkit_kwargs\u001b[49m\u001b[38;5;241;43m=\u001b[39;49m\u001b[43mrdkit_kwargs\u001b[49m\u001b[43m,\u001b[49m\n\u001b[1;32m   3235\u001b[0m \u001b[43m                                           \u001b[49m\u001b[43msmarts_kwargs\u001b[49m\u001b[38;5;241;43m=\u001b[39;49m\u001b[43msmarts_kwargs\u001b[49m\u001b[43m)\u001b[49m\n\u001b[1;32m   3236\u001b[0m \u001b[43m                    \u001b[49m\u001b[38;5;28;43;01mfor\u001b[39;49;00m\u001b[43m \u001b[49m\u001b[43ms\u001b[49m\u001b[43m \u001b[49m\u001b[38;5;129;43;01min\u001b[39;49;00m\u001b[43m \u001b[49m\u001b[43msel_strs\u001b[49m\u001b[43m)\u001b[49m\u001b[43m)\u001b[49m\n\u001b[1;32m   3237\u001b[0m \u001b[38;5;28;01mif\u001b[39;00m updating:\n\u001b[1;32m   3238\u001b[0m     atomgrp \u001b[38;5;241m=\u001b[39m UpdatingAtomGroup(\u001b[38;5;28mself\u001b[39m, selections, sel_strs)\n",
      "File \u001b[0;32m~/anaconda3/envs/gemini/lib/python3.12/site-packages/MDAnalysis/core/groups.py:3230\u001b[0m, in \u001b[0;36m<genexpr>\u001b[0;34m(.0)\u001b[0m\n\u001b[1;32m   3225\u001b[0m     \u001b[38;5;28;01mif\u001b[39;00m \u001b[38;5;129;01mnot\u001b[39;00m \u001b[38;5;28misinstance\u001b[39m(thing, AtomGroup):\n\u001b[1;32m   3226\u001b[0m         \u001b[38;5;28;01mraise\u001b[39;00m \u001b[38;5;167;01mTypeError\u001b[39;00m(\u001b[38;5;124m\"\u001b[39m\u001b[38;5;124mPassed groups must be AtomGroups. \u001b[39m\u001b[38;5;124m\"\u001b[39m\n\u001b[1;32m   3227\u001b[0m                         \u001b[38;5;124m\"\u001b[39m\u001b[38;5;124mYou provided \u001b[39m\u001b[38;5;132;01m{}\u001b[39;00m\u001b[38;5;124m for group \u001b[39m\u001b[38;5;124m'\u001b[39m\u001b[38;5;132;01m{}\u001b[39;00m\u001b[38;5;124m'\u001b[39m\u001b[38;5;124m\"\u001b[39m\u001b[38;5;241m.\u001b[39mformat(\n\u001b[1;32m   3228\u001b[0m                             thing\u001b[38;5;241m.\u001b[39m\u001b[38;5;18m__class__\u001b[39m\u001b[38;5;241m.\u001b[39m\u001b[38;5;18m__name__\u001b[39m, group))\n\u001b[0;32m-> 3230\u001b[0m selections \u001b[38;5;241m=\u001b[39m \u001b[38;5;28mtuple\u001b[39m((\u001b[43mselection\u001b[49m\u001b[38;5;241;43m.\u001b[39;49m\u001b[43mParser\u001b[49m\u001b[38;5;241;43m.\u001b[39;49m\u001b[43mparse\u001b[49m\u001b[43m(\u001b[49m\u001b[43ms\u001b[49m\u001b[43m,\u001b[49m\u001b[43m \u001b[49m\u001b[43mselgroups\u001b[49m\u001b[43m,\u001b[49m\n\u001b[1;32m   3231\u001b[0m \u001b[43m                                           \u001b[49m\u001b[43mperiodic\u001b[49m\u001b[38;5;241;43m=\u001b[39;49m\u001b[43mperiodic\u001b[49m\u001b[43m,\u001b[49m\n\u001b[1;32m   3232\u001b[0m \u001b[43m                                           \u001b[49m\u001b[43matol\u001b[49m\u001b[38;5;241;43m=\u001b[39;49m\u001b[43matol\u001b[49m\u001b[43m,\u001b[49m\u001b[43m \u001b[49m\u001b[43mrtol\u001b[49m\u001b[38;5;241;43m=\u001b[39;49m\u001b[43mrtol\u001b[49m\u001b[43m,\u001b[49m\n\u001b[1;32m   3233\u001b[0m \u001b[43m                                           \u001b[49m\u001b[38;5;28;43msorted\u001b[39;49m\u001b[38;5;241;43m=\u001b[39;49m\u001b[38;5;28;43msorted\u001b[39;49m\u001b[43m,\u001b[49m\n\u001b[1;32m   3234\u001b[0m \u001b[43m                                           \u001b[49m\u001b[43mrdkit_kwargs\u001b[49m\u001b[38;5;241;43m=\u001b[39;49m\u001b[43mrdkit_kwargs\u001b[49m\u001b[43m,\u001b[49m\n\u001b[1;32m   3235\u001b[0m \u001b[43m                                           \u001b[49m\u001b[43msmarts_kwargs\u001b[49m\u001b[38;5;241;43m=\u001b[39;49m\u001b[43msmarts_kwargs\u001b[49m\u001b[43m)\u001b[49m\n\u001b[1;32m   3236\u001b[0m                     \u001b[38;5;28;01mfor\u001b[39;00m s \u001b[38;5;129;01min\u001b[39;00m sel_strs))\n\u001b[1;32m   3237\u001b[0m \u001b[38;5;28;01mif\u001b[39;00m updating:\n\u001b[1;32m   3238\u001b[0m     atomgrp \u001b[38;5;241m=\u001b[39m UpdatingAtomGroup(\u001b[38;5;28mself\u001b[39m, selections, sel_strs)\n",
      "File \u001b[0;32m~/anaconda3/envs/gemini/lib/python3.12/site-packages/MDAnalysis/core/selection.py:1528\u001b[0m, in \u001b[0;36mSelectionParser.parse\u001b[0;34m(self, selectstr, selgroups, periodic, atol, rtol, sorted, rdkit_kwargs, smarts_kwargs)\u001b[0m\n\u001b[1;32m   1526\u001b[0m tokens \u001b[38;5;241m=\u001b[39m selectstr\u001b[38;5;241m.\u001b[39mreplace(\u001b[38;5;124m'\u001b[39m\u001b[38;5;124m(\u001b[39m\u001b[38;5;124m'\u001b[39m, \u001b[38;5;124m'\u001b[39m\u001b[38;5;124m ( \u001b[39m\u001b[38;5;124m'\u001b[39m)\u001b[38;5;241m.\u001b[39mreplace(\u001b[38;5;124m'\u001b[39m\u001b[38;5;124m)\u001b[39m\u001b[38;5;124m'\u001b[39m, \u001b[38;5;124m'\u001b[39m\u001b[38;5;124m ) \u001b[39m\u001b[38;5;124m'\u001b[39m)\n\u001b[1;32m   1527\u001b[0m \u001b[38;5;28mself\u001b[39m\u001b[38;5;241m.\u001b[39mtokens \u001b[38;5;241m=\u001b[39m collections\u001b[38;5;241m.\u001b[39mdeque(tokens\u001b[38;5;241m.\u001b[39msplit() \u001b[38;5;241m+\u001b[39m [\u001b[38;5;28;01mNone\u001b[39;00m])\n\u001b[0;32m-> 1528\u001b[0m parsetree \u001b[38;5;241m=\u001b[39m \u001b[38;5;28;43mself\u001b[39;49m\u001b[38;5;241;43m.\u001b[39;49m\u001b[43mparse_expression\u001b[49m\u001b[43m(\u001b[49m\u001b[38;5;241;43m0\u001b[39;49m\u001b[43m)\u001b[49m\n\u001b[1;32m   1529\u001b[0m \u001b[38;5;28;01mif\u001b[39;00m \u001b[38;5;28mself\u001b[39m\u001b[38;5;241m.\u001b[39mtokens[\u001b[38;5;241m0\u001b[39m] \u001b[38;5;129;01mis\u001b[39;00m \u001b[38;5;129;01mnot\u001b[39;00m \u001b[38;5;28;01mNone\u001b[39;00m:\n\u001b[1;32m   1530\u001b[0m     \u001b[38;5;28;01mraise\u001b[39;00m SelectionError(\n\u001b[1;32m   1531\u001b[0m         \u001b[38;5;124m\"\u001b[39m\u001b[38;5;124mUnexpected token at end of selection string: \u001b[39m\u001b[38;5;124m'\u001b[39m\u001b[38;5;132;01m{0}\u001b[39;00m\u001b[38;5;124m'\u001b[39m\u001b[38;5;124m\"\u001b[39m\n\u001b[1;32m   1532\u001b[0m         \u001b[38;5;124m\"\u001b[39m\u001b[38;5;124m\"\u001b[39m\u001b[38;5;241m.\u001b[39mformat(\u001b[38;5;28mself\u001b[39m\u001b[38;5;241m.\u001b[39mtokens[\u001b[38;5;241m0\u001b[39m]))\n",
      "File \u001b[0;32m~/anaconda3/envs/gemini/lib/python3.12/site-packages/MDAnalysis/core/selection.py:1536\u001b[0m, in \u001b[0;36mSelectionParser.parse_expression\u001b[0;34m(self, p)\u001b[0m\n\u001b[1;32m   1535\u001b[0m \u001b[38;5;28;01mdef\u001b[39;00m \u001b[38;5;21mparse_expression\u001b[39m(\u001b[38;5;28mself\u001b[39m, p):\n\u001b[0;32m-> 1536\u001b[0m     exp1 \u001b[38;5;241m=\u001b[39m \u001b[38;5;28;43mself\u001b[39;49m\u001b[38;5;241;43m.\u001b[39;49m\u001b[43m_parse_subexp\u001b[49m\u001b[43m(\u001b[49m\u001b[43m)\u001b[49m\n\u001b[1;32m   1537\u001b[0m     \u001b[38;5;28;01mwhile\u001b[39;00m (\u001b[38;5;28mself\u001b[39m\u001b[38;5;241m.\u001b[39mtokens[\u001b[38;5;241m0\u001b[39m] \u001b[38;5;129;01min\u001b[39;00m _OPERATIONS \u001b[38;5;129;01mand\u001b[39;00m\n\u001b[1;32m   1538\u001b[0m            _OPERATIONS[\u001b[38;5;28mself\u001b[39m\u001b[38;5;241m.\u001b[39mtokens[\u001b[38;5;241m0\u001b[39m]]\u001b[38;5;241m.\u001b[39mprecedence \u001b[38;5;241m>\u001b[39m\u001b[38;5;241m=\u001b[39m p):\n\u001b[1;32m   1539\u001b[0m         op \u001b[38;5;241m=\u001b[39m _OPERATIONS[\u001b[38;5;28mself\u001b[39m\u001b[38;5;241m.\u001b[39mtokens\u001b[38;5;241m.\u001b[39mpopleft()]\n",
      "File \u001b[0;32m~/anaconda3/envs/gemini/lib/python3.12/site-packages/MDAnalysis/core/selection.py:1557\u001b[0m, in \u001b[0;36mSelectionParser._parse_subexp\u001b[0;34m(self)\u001b[0m\n\u001b[1;32m   1555\u001b[0m \u001b[38;5;28;01mexcept\u001b[39;00m \u001b[38;5;167;01mKeyError\u001b[39;00m:\n\u001b[1;32m   1556\u001b[0m     errmsg \u001b[38;5;241m=\u001b[39m \u001b[38;5;124mf\u001b[39m\u001b[38;5;124m\"\u001b[39m\u001b[38;5;124mUnknown selection token: \u001b[39m\u001b[38;5;124m'\u001b[39m\u001b[38;5;132;01m{\u001b[39;00mop\u001b[38;5;132;01m}\u001b[39;00m\u001b[38;5;124m'\u001b[39m\u001b[38;5;124m\"\u001b[39m\n\u001b[0;32m-> 1557\u001b[0m     \u001b[38;5;28;01mraise\u001b[39;00m SelectionError(errmsg) \u001b[38;5;28;01mfrom\u001b[39;00m \u001b[38;5;28;01mNone\u001b[39;00m\n\u001b[1;32m   1558\u001b[0m \u001b[38;5;28;01mexcept\u001b[39;00m \u001b[38;5;167;01mValueError\u001b[39;00m \u001b[38;5;28;01mas\u001b[39;00m e:\n\u001b[1;32m   1559\u001b[0m     errmsg \u001b[38;5;241m=\u001b[39m \u001b[38;5;124mf\u001b[39m\u001b[38;5;124m\"\u001b[39m\u001b[38;5;124mSelection failed: \u001b[39m\u001b[38;5;124m'\u001b[39m\u001b[38;5;132;01m{\u001b[39;00me\u001b[38;5;132;01m}\u001b[39;00m\u001b[38;5;124m'\u001b[39m\u001b[38;5;124m\"\u001b[39m\n",
      "\u001b[0;31mSelectionError\u001b[0m: Unknown selection token: 'heavy'"
     ]
    }
   ],
   "source": [
    "exec(remove_markdown_code_blocks(pdb_analysis.text))"
   ]
  },
  {
   "cell_type": "code",
   "execution_count": 36,
   "id": "2eece9fa-828e-479d-aa00-b5eccfafc76f",
   "metadata": {},
   "outputs": [
    {
     "data": {
      "text/plain": [
       "15.132645440412087"
      ]
     },
     "execution_count": 36,
     "metadata": {},
     "output_type": "execute_result"
    }
   ],
   "source": [
    "compute_radius_of_gyration(\"2L0J.pdb\", \"radius_og_gyration\", \"Chain A\")"
   ]
  },
  {
   "cell_type": "code",
   "execution_count": null,
   "id": "7618f026-020a-4afc-89d2-9515873cc56f",
   "metadata": {},
   "outputs": [],
   "source": []
  }
 ],
 "metadata": {
  "kernelspec": {
   "display_name": "Python 3 (ipykernel)",
   "language": "python",
   "name": "python3"
  },
  "language_info": {
   "codemirror_mode": {
    "name": "ipython",
    "version": 3
   },
   "file_extension": ".py",
   "mimetype": "text/x-python",
   "name": "python",
   "nbconvert_exporter": "python",
   "pygments_lexer": "ipython3",
   "version": "3.12.2"
  }
 },
 "nbformat": 4,
 "nbformat_minor": 5
}
