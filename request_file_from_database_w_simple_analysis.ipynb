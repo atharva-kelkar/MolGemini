{
 "cells": [
  {
   "cell_type": "code",
   "execution_count": 1,
   "id": "efeef1ac",
   "metadata": {},
   "outputs": [],
   "source": [
    "from vertexai import generative_models\n",
    "from vertexai.generative_models import GenerativeModel\n",
    "import json"
   ]
  },
  {
   "cell_type": "code",
   "execution_count": 2,
   "id": "de3f4007",
   "metadata": {},
   "outputs": [],
   "source": [
    "model = GenerativeModel(model_name=\"gemini-1.0-pro-vision\")"
   ]
  },
  {
   "cell_type": "code",
   "execution_count": 3,
   "id": "38942028",
   "metadata": {},
   "outputs": [
    {
     "name": "stdout",
     "output_type": "stream",
     "text": [
      "Please provide the PDB ID of the protein you are interested in. The PDB ID is a unique identifier for each protein structure deposited in the Protein Data Bank. It can be found in the header of the PDB file or on the PDB website.\n"
     ]
    }
   ],
   "source": [
    "## Provide pdb ID\n",
    "ask_prompt='Please ask the user to provide a pdb ID for the protein of interest.'\n",
    "response = model.generate_content(ask_prompt)\n",
    "print(response.text)"
   ]
  },
  {
   "cell_type": "code",
   "execution_count": 4,
   "id": "c006e93f-8366-4901-9f89-4e845ea0d93c",
   "metadata": {},
   "outputs": [
    {
     "data": {
      "text/plain": [
       "'The pdb ID is 2L0J'"
      ]
     },
     "execution_count": 4,
     "metadata": {},
     "output_type": "execute_result"
    }
   ],
   "source": [
    "pdb_ID='2L0J'\n",
    "prompt_pdb='The pdb ID is '+pdb_ID\n",
    "prompt_pdb"
   ]
  },
  {
   "cell_type": "code",
   "execution_count": 25,
   "id": "2934ff9c",
   "metadata": {},
   "outputs": [],
   "source": [
    "#Feed pdb\n",
    "feed_pdb = model.generate_content(prompt_pdb)"
   ]
  },
  {
   "cell_type": "code",
   "execution_count": 6,
   "id": "ab7a7963-e19d-40a6-862c-fd764a56dded",
   "metadata": {},
   "outputs": [],
   "source": [
    "#Ask which PDB ID has been provided\n",
    "pdb_check = model.generate_content(f'Which pdb ID has been provided?{feed_pdb.text}')"
   ]
  },
  {
   "cell_type": "code",
   "execution_count": 7,
   "id": "5dc9ecb3-a297-467e-a461-dfdd569f055d",
   "metadata": {},
   "outputs": [
    {
     "name": "stdout",
     "output_type": "stream",
     "text": [
      "The provided PDB ID is 2L0J.\n"
     ]
    }
   ],
   "source": [
    "print(pdb_check.text)"
   ]
  },
  {
   "cell_type": "code",
   "execution_count": 8,
   "id": "4e633ef2",
   "metadata": {},
   "outputs": [],
   "source": [
    "#What to do with the pdb file"
   ]
  },
  {
   "cell_type": "code",
   "execution_count": 9,
   "id": "1176f9e1-b63b-4fd7-97a7-9aefa97d7c08",
   "metadata": {},
   "outputs": [],
   "source": [
    "#helper function to download pdb\n",
    "import requests\n",
    "\n",
    "def download_pdb(pdb_id, save_path):\n",
    "    # Construct the URL for the PDB file\n",
    "    pdb_url = f\"https://files.rcsb.org/download/{pdb_id}.pdb\"\n",
    "\n",
    "    # Send a GET request to download the file\n",
    "    response = requests.get(pdb_url)\n",
    "\n",
    "    # Check if the request was successful (status code 200)\n",
    "    if response.status_code == 200:\n",
    "        # Save the content to a file\n",
    "        with open(save_path, 'wb') as f:\n",
    "            f.write(response.content)\n",
    "        print(f\"Successfully downloaded {pdb_id}.pdb\")\n",
    "    else:\n",
    "        print(f\"Failed to download {pdb_id}.pdb\")"
   ]
  },
  {
   "cell_type": "code",
   "execution_count": 10,
   "id": "d9fbdba5-a136-41dd-8143-e06452e1d16d",
   "metadata": {},
   "outputs": [
    {
     "name": "stdout",
     "output_type": "stream",
     "text": [
      "Failed to download The provided PDB ID is 2L0J..pdb\n"
     ]
    }
   ],
   "source": [
    "# Example usage:\n",
    "pdb_id = pdb_check.text  # Example PDB ID\n",
    "save_path = pdb_check.text+'.pdb'  # Path to save the downloaded PDB file\n",
    "download_pdb(pdb_id, save_path)\n"
   ]
  },
  {
   "cell_type": "code",
   "execution_count": 11,
   "id": "98f8ef26-fdc2-4a60-8aeb-72d1abd998ff",
   "metadata": {},
   "outputs": [
    {
     "name": "stdout",
     "output_type": "stream",
     "text": [
      "```\n",
      "from Bio.PDB import PDBParser\n",
      "import numpy as np\n",
      "\n",
      "# Create a PDBParser object\n",
      "parser = PDBParser()\n",
      "\n",
      "# Parse the PDB file\n",
      "structure = parser.get_structure(\"2L0J\", \"2L0J.pdb\")\n",
      "\n",
      "# Get the CA atoms\n",
      "ca_atoms = [atom for atom in structure.get_atoms() if atom.name == \"CA\"]\n",
      "\n",
      "# Print the coordinates of the CA atoms to an array\n",
      "ca_coords = np.array([[atom.coord[0], atom.coord[1], atom.coord[2]] for atom in ca_atoms])\n",
      "\n",
      "print(ca_coords)\n",
      "```\n"
     ]
    }
   ],
   "source": [
    "#generate code to open pdb and read positions of the CA atons\n",
    "pdb_file=pdb_check.text+'.pdb'\n",
    "code_prompt='Please write code to open the pdb and print the coordinates of the CA atoms to an array.'\n",
    "open_pdb=model.generate_content([pdb_file,code_prompt])\n",
    "print(open_pdb.text)"
   ]
  },
  {
   "cell_type": "code",
   "execution_count": 12,
   "id": "1e93b756-8404-4db1-b16c-962173abfa1d",
   "metadata": {},
   "outputs": [],
   "source": [
    "#function to remove markdown from generated code\n",
    "def remove_markdown_code_blocks(text):\n",
    "    lines = text.split('\\n')\n",
    "    cleaned_lines = [line for line in lines if not line.strip().startswith('```')]\n",
    "    cleaned_text = '\\n'.join(cleaned_lines)\n",
    "    return cleaned_text"
   ]
  },
  {
   "cell_type": "code",
   "execution_count": 13,
   "id": "43c9a6dc-ffff-4489-b36f-bd458a31e705",
   "metadata": {},
   "outputs": [],
   "source": [
    "cleaned_text = remove_markdown_code_blocks(open_pdb.text)"
   ]
  },
  {
   "cell_type": "code",
   "execution_count": 14,
   "id": "9bfac364-74a9-49ff-a1e7-e7e784b02110",
   "metadata": {},
   "outputs": [
    {
     "name": "stdout",
     "output_type": "stream",
     "text": [
      "[[  4.812  -8.317  19.129]\n",
      " [  6.511  -7.824  15.715]\n",
      " [  8.351  -4.579  15.207]\n",
      " ...\n",
      " [ 16.007  14.386 -22.258]\n",
      " [ 18.229  14.845 -19.134]\n",
      " [ 19.461  11.244 -18.624]]\n"
     ]
    }
   ],
   "source": [
    "import numpy as np\n",
    "exec(cleaned_text)"
   ]
  },
  {
   "cell_type": "markdown",
   "id": "310ef3c7-041a-4cc2-b64d-09477125fb01",
   "metadata": {},
   "source": [
    "Compute Radius of gyration"
   ]
  },
  {
   "cell_type": "code",
   "execution_count": 15,
   "id": "932f9b52-a15b-47a9-a7e4-fdd868920f99",
   "metadata": {},
   "outputs": [
    {
     "name": "stdout",
     "output_type": "stream",
     "text": [
      "Which property do you want to compute?\n"
     ]
    }
   ],
   "source": [
    "request_prompt='Please ask the user which property they want to compute and do not provide any options.'\n",
    "analysis_request = model.generate_content(request_prompt)\n",
    "print(analysis_request.text)"
   ]
  },
  {
   "cell_type": "code",
   "execution_count": 16,
   "id": "6da4384f-bef3-421e-8077-3b50ef638acb",
   "metadata": {},
   "outputs": [
    {
     "data": {
      "text/plain": [
       "'The property to analyze is Radius of gyration'"
      ]
     },
     "execution_count": 16,
     "metadata": {},
     "output_type": "execute_result"
    }
   ],
   "source": [
    "name_property='Radius of gyration'\n",
    "property_feed='The property to analyze is '+name_property\n",
    "property_feed"
   ]
  },
  {
   "cell_type": "code",
   "execution_count": 17,
   "id": "b5d2aa66-139f-4af6-a9fa-3d9a438a817e",
   "metadata": {},
   "outputs": [],
   "source": [
    "feed_property = model.generate_content(property_feed)"
   ]
  },
  {
   "cell_type": "code",
   "execution_count": 18,
   "id": "9f0bf95c-d793-48c7-8bf8-8913d8bcfa4b",
   "metadata": {},
   "outputs": [
    {
     "name": "stdout",
     "output_type": "stream",
     "text": [
      "For which part of the system do you want the property computed?\n"
     ]
    }
   ],
   "source": [
    "#specifiy analysis\n",
    "specify_prompt='Please ask the user for which part of the system they want the property computed for. Do not provide any options'\n",
    "specify_request = model.generate_content(specify_prompt)\n",
    "print(specify_request.text)"
   ]
  },
  {
   "cell_type": "code",
   "execution_count": 27,
   "id": "851024d5-6969-4228-b0ac-6adc7087f318",
   "metadata": {},
   "outputs": [
    {
     "data": {
      "text/plain": [
       "'The relevant part is Chain A'"
      ]
     },
     "execution_count": 27,
     "metadata": {},
     "output_type": "execute_result"
    }
   ],
   "source": [
    "name_part='Chain A'\n",
    "specify_feed='The relevant part is ' + name_part\n",
    "specify_feed"
   ]
  },
  {
   "cell_type": "code",
   "execution_count": 28,
   "id": "96bd1fd3-047c-4173-98d0-4875895f8a8f",
   "metadata": {},
   "outputs": [],
   "source": [
    "feed_specify=model.generate_content(specify_feed)"
   ]
  },
  {
   "cell_type": "code",
   "execution_count": 29,
   "id": "4e787a7e-2d64-42a9-ac1c-a4245286f5cf",
   "metadata": {},
   "outputs": [],
   "source": [
    "#check if pdb, property and specification are correctly stored "
   ]
  },
  {
   "cell_type": "code",
   "execution_count": 30,
   "id": "0f330d66-636a-4bd2-a989-2b2e951778a1",
   "metadata": {},
   "outputs": [
    {
     "name": "stdout",
     "output_type": "stream",
     "text": [
      "**PDB ID:** 2L0J\n",
      "\n",
      "**Property:** Radius of Gyration (Rg)\n",
      "\n",
      "**System Part:** Chain A\n"
     ]
    }
   ],
   "source": [
    "#Ask which PDB ID has been provided\n",
    "analysis_check_prompt='Which pdb has been provided? Which property should be computed? For which part of the system?'\n",
    "analysis_check = model.generate_content([analysis_check_prompt,feed_pdb.text,feed_property.text,feed_specify.text])\n",
    "print(analysis_check.text)"
   ]
  },
  {
   "cell_type": "code",
   "execution_count": 32,
   "id": "b4e68c94-a316-4b9a-a10d-c6f54ff64d20",
   "metadata": {},
   "outputs": [
    {
     "name": "stdout",
     "output_type": "stream",
     "text": [
      "```\n",
      "import numpy as np\n",
      "import MDAnalysis as mda\n",
      "\n",
      "# Load the PDB file\n",
      "u = mda.Universe('2L0J.pdb')\n",
      "\n",
      "# Select the chain of interest\n",
      "chain = u.select_atoms('chainid A')\n",
      "\n",
      "# Compute the radius of gyration\n",
      "Rg = chain.radius_of_gyration()\n",
      "\n",
      "# Print the result\n",
      "print(Rg)\n",
      "\n",
      "```\n"
     ]
    }
   ],
   "source": [
    "analysis_prompt='Please write code to perform the computation for the given PDB, Property and system part.'\n",
    "pdb_analysis=model.generate_content([analysis_prompt,analysis_check.text])\n",
    "print(pdb_analysis.text)"
   ]
  },
  {
   "cell_type": "code",
   "execution_count": 35,
   "id": "9c39be36-ddbf-4a84-9542-33dbc679dbc4",
   "metadata": {},
   "outputs": [
    {
     "name": "stdout",
     "output_type": "stream",
     "text": [
      "15.132645440412087\n"
     ]
    }
   ],
   "source": [
    "analysis_code = remove_markdown_code_blocks(pdb_analysis.text)\n",
    "exec(analysis_code)"
   ]
  },
  {
   "cell_type": "code",
   "execution_count": null,
   "id": "27691b3e-0b88-46bb-8747-f340c89de5cc",
   "metadata": {},
   "outputs": [],
   "source": []
  }
 ],
 "metadata": {
  "kernelspec": {
   "display_name": "Python 3 (ipykernel)",
   "language": "python",
   "name": "python3"
  },
  "language_info": {
   "codemirror_mode": {
    "name": "ipython",
    "version": 3
   },
   "file_extension": ".py",
   "mimetype": "text/x-python",
   "name": "python",
   "nbconvert_exporter": "python",
   "pygments_lexer": "ipython3",
   "version": "3.12.2"
  }
 },
 "nbformat": 4,
 "nbformat_minor": 5
}
